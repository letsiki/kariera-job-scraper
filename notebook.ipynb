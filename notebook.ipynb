{
 "cells": [
  {
   "cell_type": "code",
   "execution_count": 64,
   "id": "8ae74eab",
   "metadata": {},
   "outputs": [],
   "source": [
    "import pandas as pd\n",
    "from datetime import datetime"
   ]
  },
  {
   "cell_type": "code",
   "execution_count": 65,
   "id": "ddd64de3",
   "metadata": {},
   "outputs": [],
   "source": [
    "date = datetime.strftime(datetime.now(), \"%Y-%m-%d\")\n",
    "df = pd.read_pickle(f'data/{date}-df.pkl')"
   ]
  },
  {
   "cell_type": "code",
   "execution_count": 66,
   "id": "3352a836",
   "metadata": {},
   "outputs": [
    {
     "data": {
      "application/vnd.microsoft.datawrangler.viewer.v0+json": {
       "columns": [
        {
         "name": "index",
         "rawType": "int64",
         "type": "integer"
        },
        {
         "name": "role",
         "rawType": "object",
         "type": "string"
        },
        {
         "name": "company",
         "rawType": "object",
         "type": "string"
        },
        {
         "name": "location",
         "rawType": "object",
         "type": "string"
        },
        {
         "name": "date_posted",
         "rawType": "object",
         "type": "string"
        },
        {
         "name": "min_experience",
         "rawType": "object",
         "type": "string"
        },
        {
         "name": "employment_type",
         "rawType": "object",
         "type": "string"
        },
        {
         "name": "category",
         "rawType": "object",
         "type": "string"
        },
        {
         "name": "remote",
         "rawType": "object",
         "type": "unknown"
        },
        {
         "name": "details",
         "rawType": "object",
         "type": "unknown"
        },
        {
         "name": "tags",
         "rawType": "object",
         "type": "unknown"
        },
        {
         "name": "ad_link",
         "rawType": "object",
         "type": "string"
        }
       ],
       "ref": "98ae1652-088a-49fe-9058-0b93dddb063e",
       "rows": [
        [
         "0",
         "Yπάλληλος ΒΑCK OFFICE",
         "BFS Group",
         "Άγιος Δημήτριος",
         "πριν 5 ώρες",
         "Με κάποια εμπειρία",
         "Πλήρης απασχόληση",
         "Γραμματειακή Υποστήριξη / Υπάλληλος Γραφείου",
         null,
         "['Η BFS Group,Leading Employer in Greece,  αναζητά άτομο για το τμήμα του Back Office με απαραίτητη προϋπηρεσία στον κλάδο της Ενέργειας ή Τηλ/νιών .', 'Leading Employer in Greece', 'Ο Ρόλος\\nΚαταχώρηση αιτήσεων, αποστολή συμβολαίων, γραμματειακή υποστήριξη.', 'Ο Ρόλος', 'Eπιθυμητά Προσόντα', 'E', 'πιθυμητά Προσόντα', 'Απόφοιτος ΑΕΙ / ΤΕΙ / ΙΕΚ/ΛΥΚΕΙΟ', 'Άριστη γνώση χρήσης Η/Υ', 'Επιθυμητή προϋπηρεσία σε τμήμα Back Office', 'Γρήγορη πληκτρολόγηση', 'Ακρίβεια/Ταχύτητα στην εκτέλεση των καθηκόντων', 'Ομαδικό πνεύμα', 'Κριτική Σκέψη', 'Τι σου προσφέρουμε:', 'Τι σου προσφέρουμε:', 'Υψηλό σταθερό μισθό που αντανακλά τις ικανότητές σου με αορίστου  χρόνου σύμβαση εργασίας.', 'Αναγνώριση τριετιών για την εμπειρία σου.', 'Μοντέρνο και ευχάριστο εργασιακό περιβάλλον που σε εμπνέει με ευκαιρίες εργασιακής ανέλιξης σε έναν κορυφαίο όμιλο.', 'Συνεχής εκπαίδευση για να εξελίσσεσαι επαγγελματικά.', 'Extra υγειονομικές παροχές και Δωρεάν Πρόγραμμα Υγείας για την ευεξία σου.', 'Πρόγραμμα \"Refer a Friend\" με Bonus!', 'Δράσεις Εταιρικής Υπευθυνότητας με τους Humanity Hackers!', 'Δυνατότητα να γίνεις το επόμενο Rising Star του ομίλου μας!', 'Εύκολη πρόσβαση (ακριβώς δίπλα στο μετρό Αγ. Δημήτριος)']",
         "['#back office', 'γραμματειακη υποστηριξη, back office', 'υπάλληλος back office', 'υπάλληλος γραφείου, back office', 'καταχωρησεις', 'υπάλληλος καταχωρησης', 'data entry', 'data entry υπάλληλος γραφείου', 'γραμματεία', 'γραμματειακή υποστήριξη', 'καταχωρηση παρασταστικων', 'εξυπηρετηση']",
         "https://www.kariera.gr/en/jobs/administrative-or-secretarial-jobs/227504?sponsored=&origin=pjp"
        ],
        [
         "1",
         "Data Entry Specialist",
         "ΛΑΚΙΩΤΗΣ Α.Ε.",
         "Ασπρόπυργος",
         "πριν 10 μέρες",
         "Entry / Αρχάριος",
         "Πλήρης απασχόληση",
         "Μάρκετινγκ / Διαφήμιση",
         null,
         "['Η εταιρία Λακιώτης, στο πλαίσιο της δυναμικής της ανάπτυξης, αναζητά νέα μέλη για να ενισχύσουν την ομάδα της. Αν είσαι φιλόδοξος/η, με όρεξη για εξέλιξη και θέλεις να γίνεις μέρος μιας αναπτυσσόμενης και καινοτόμου εταιρείας, αυτή είναι η ευκαιρία σου!', 'Η εταιρία Λακιώτης, στο πλαίσιο της δυναμικής της ανάπτυξης, αναζητά νέα μέλη για να ενισχύσουν την ομάδα της. Αν είσαι φιλόδοξος/η, με όρεξη για εξέλιξη και θέλεις να γίνεις μέρος μιας αναπτυσσόμενης και καινοτόμου εταιρείας, αυτή είναι η ευκαιρία σου!', 'Data Entry specialist', 'Data Entry specialist', 'Μια τυπική ημέρα στην εργασία περιλαμβάνει:', 'Μια τυπική ημέρα στην εργασία περιλαμβάνει:', 'Καθημερινή ενημέρωση και διαχείριση της κεντρικής βάσης δεδομένων του συστήματος ERP για τα προϊόντα της εταιρίας', 'Ηλεκτρονική καταχώριση δεδομένων σε καθημερινή βάση', 'Συγχρονισμός ενημέρωσης των αντίστοιχων προϊοντικών σελίδων στην εταιρική ιστοσελίδα', 'Διαχείριση περιεχομένου', 'Ανάλυση δεδομένων και παραγωγή αναφορών', 'Τι χρειάζεται να φέρεις μαζί σου:', 'Τι χρειάζεται να φέρεις μαζί σου:', 'Πτυχίο ΙΕΚ / ΤΕΙ / ΑΕΙ .', 'Άριστη γνώση και χρήση ηλεκτρονικών συστημάτων.', 'Εξοικείωση στη γρήγορη και ακριβή πληκτρολόγηση', 'Ικανότητα αρίστης διαχείρισης χρόνου.', 'Μεθοδικότητα, αντίληψη και προσοχή στη λεπτομέρεια', 'Γνώση συστημάτων ERP και πιο συγκεκριμένα SAP θα εκτιμηθεί.', 'Εμείς θα σου παρέχουμε:', 'Εμείς θα σου παρέχουμε:', 'Πλήρη απασχόληση', 'Ανταγωνιστικό μισθό', 'Δυναμικό, σύγχρονο και φιλικό εργασιακό περιβάλλον', 'Η Λακιώτης Α.Ε. είναι μία από τις κορυφαίες ελληνικές εταιρίες στον χώρο των ειδών υγιεινής και πλακιδίων, με ηγετική παρουσία στην αγορά από το 1978. Με έμφαση στην καινοτομία, την ποιότητα και την εξυπηρέτηση, παρέχουμε λύσεις υψηλών προδιαγραφών για ιδιώτες, επαγγελματίες και μεγάλα έργα. Επενδύουμε στη βιωσιμότητα, την τεχνολογία και τη συνεχή εξέλιξη, δημιουργώντας ένα εργασιακό περιβάλλον ανάπτυξης και δημιουργικότητας.', 'Γίνε μέλος μιας δυναμικής ομάδας που σχεδιάζει το μέλλον με σεβασμό στον άνθρωπο και το περιβάλλον!']",
         "[]",
         "https://www.kariera.gr/en/jobs/marketing-or-advertising-jobs/224957?sponsored"
        ],
        [
         "2",
         "Product Specialist",
         "INTER CARS GREECE ΜΟΝ. ΕΠΕ",
         "Ελληνικό",
         "πριν 9 μέρες",
         "Με κάποια εμπειρία",
         "Πλήρης απασχόληση",
         "Προμήθειες / Αγορές",
         null,
         "['Inter Cars Greece Single Member Liability Company is a subsidiary of Inter Cars S.A., the biggest importer and distributor of automotive spare parts and garage equipment in Middle and Eastern Europe. With over 200 branches in Poland and more than 190 branches in Europe, Inter Cars Greece values passion and involvement, partnership, reliability, loyalty, and leadership by example.', 'Inter Cars Greece is interested in appointing a Product Specialist for the LKW Segment in the Athens Metropolitan Area. The right candidate will contribute to the team and help achieve the corporate goals.', 'Responsibilities', 'Responsibilities', 'Analyze the market in terms of competition, product mix, pricing, market sharing facilitating advanced excel functions and skills.', 'Support the growth plan of the purchasing department.', 'Play an integral part of the team that has as a major objective to multiply the segment size.', 'Handling the cycle of supplies and equipment.', 'Develop and maintain professional relationships with all suppliers. Maintain quality of purchasing procedures.', 'Ensure compliance with all purchasing policies. Evaluate all quotes and coordinate with vendors to provide required component bids and analyze all vendor performance to improve all purchasing process.', 'Design and implement various purchasing strategies and procurement. Participate in all supplier selection and pricing reduction programs in coordination with global supply chain team. Determine appropriate programs for all purchase requirements and assist in reducing supply chain costs.', 'Provide network support, execute and check if the purchasing processes have been followed and provide an effective interface with all departments and branches. Ensure that there is an efficient ABC analysis and keep stocks of the shop under close supervision.', 'Coordinate with all internal departments in terms of priorities to ensure efficiencies, scale economies and effectiveness of the purchasing system.', 'Requirements', 'Requirements', 'BSc in Engineering, Business Administration or related field. MSc will be considered as a strong asset.', 'Advanced excel skills are essential.', 'Strong presentation, verbal and written communication skills (English and Greek).', 'Strong technical skills, analytical ability and attention to detail.', '3-5 years’ work experience in a similar role required.', 'Strong communication and interpersonal skills.', 'Ability to work as a team member and independently when required.', 'Office 365 strong knowledge required.', 'Benefits', 'Benefits', 'Competitive remuneration package', 'Skills development scheme', 'Career advancement in a multinational corporate environment', 'Additional private health insurance scheme', 'Due to the high volume of applications only high final candidates will be conducted. Inter Cars promotes privacy and confidentiality and aims to protect candidates’ personal data, in accordance with General Data Protection Regulation (Reg. 2016/679) requirements and national legislation.']",
         "['excel', 'analytics', 'data scientist', 'data analytics', 'purchase', 'procurement', 'procurementbuyer', 'excel expert', '#excel', 'εμπορικό τμήμα']",
         "https://www.kariera.gr/en/jobs/procurement-or-supply-chain-jobs/225171?sponsored"
        ],
        [
         "3",
         "Product Manager (Energy)",
         "Volton Ελληνική Ενεργειακή Α.Ε.",
         "Μεταμόρφωση",
         "πριν 18 μέρες",
         "Με κάποια εμπειρία",
         "Πλήρης απασχόληση",
         "Μάρκετινγκ / Διαφήμιση",
         "Εργασία από απόσταση κάποιες ημέρες",
         "['Volton Hellenic Energy SA is a Greek company that is dynamically active and is rapidly increasing its capacity in the field of Electricity Supply and Trading, in the Gas Energy Sector and in the field of Telecommunications (through Orizon).', 'Volton', \"By offering reliable services that meet the ever-growing energy needs of businesses and households, Volton aims to build solid and trustful relationships with its customers. The company's ambition is to become one of the most important companies in the industry and remain at the forefront of developments as the first multiservice provider combining Electricity, Natural Gas and Telecommunications.\", ', Volton', 'As part of its development Volton strengthens its human resources in Athens and seeks a Product Manager (Energy).', 'Volton', 'Athens', 'Product Manager (Energy).', 'The Product Manager plays a critical role in driving the development and optimization of Volton’s energy product portfolio, encompassing electricity and natural gas. This role aligns with our mission to deliver innovative, sustainable, and customer-focused energy solutions, ensuring Volton remains a leader in the electrical energy supply industry. By blending strategic vision with hands-on execution, the Product Manager contributes to achieving business growth and customer satisfaction.', 'Product Manager', 'Volton’s', 'Volton', 'Product Manager', 'Oversee the full lifecycle of energy products, from conceptualization and design to implementation and market introduction', 'Develop strategies for product enhancements based on customer feedback, competitive analysis, and market trends', 'Conduct periodic SWOT analysis to inform strategic decisions', 'Analyze market situation, trends, regulatory developments, and competitor offerings to identify opportunities for innovation and differentiation', 'Deploy go-to-market strategies and tactics within agreed timelines and budgets', 'Cooperate cross-functionally with Legal, Sales, MarCom, Operations, CX, Customer Care and Technical teams for successful product launches', 'Collaborate with external partners and vendors to support product development initiatives', 'Define and track key performance indicators (KPIs) to measure product success, such as market share, revenue growth, and customer satisfaction', 'Responsible for P&L and financial analysis for the assigned portfolio', 'Increase customer retention rates through product innovations and contribute to the achievement of annual revenue and growth targets', 'Prepare detailed reports and presentations for senior leadership on product performance and future initiatives', 'Act as an ambassador of the products within the organization', 'Bachelor’s degree in Business Administration, Engineering, or a related field; A Master’s degree will be a plus', '5 years of experience in product management, experience within the energy sector will be strongly appreciated', 'Certifications in Product Management are a plus', 'Solid understanding of energy markets, particularly electricity and natural gas', 'Proficiency in data analysis tools (e.g., Excel, Tableau) and project management software (e.g. Jira)', 'Strong leadership and team management capabilities', 'Excellent communication skills to convey complex concepts to diverse audiences', 'Critical thinking and problem-solving abilities', 'Customer-centric approach with a focus on delivering value', 'Innovative mindset to drive product differentiation', 'Strong organizational skills with attention to detail', 'A competitive fixed salary package aligned with your experience and expectations', 'Hybrid working model', 'Private insurance, corporate benefits and perks', 'Continuous training and professional development', 'Excellent professional environment', 'Modern and productive working facilities', 'Don’t miss the chance to join a Great Place to Work-Certified Company that fosters a positive work environment, proudly recognized as a Best Workplace for Women 2025.', 'Great Place to Work-Certified Company', 'Best Workplace for Women 2025', 'All applications will be treated with confidentiality. If your CV meets the requirements of the job, we will contact you by phone to schedule an appointment. Information about the company on our site volton.gr', 'volton.gr']",
         "['reporting', 'data analysis', 'product marketing', 'product manager', 'product manager, product management, category management, marketing', 'energy']",
         "https://www.kariera.gr/en/jobs/marketing-or-advertising-jobs/222723?sponsored"
        ],
        [
         "4",
         "Data Entry Specialist",
         "WEBSUPPLIES MON AE",
         "Αιγάλεω",
         "πριν 2 ώρες",
         "Με κάποια εμπειρία",
         "Πλήρης απασχόληση",
         "Ηλεκτρονικό Εμπόριο / Ψηφιακές Υπηρεσίες",
         null,
         "['Data Entry Specialist', 'Η WebSupplies στο πλαίσιο της δυναμικής της ανάπτυξης, αναζητά νέα μέλη για να ενισχύσει την ομάδα της.', 'Αρμοδιότητες: \\n- Ηλεκτρονική καταχώριση δεδομένων σε καθημερινή βάση (προϊόντα, τιμές, περιγραφές, τεχνικά χαρακτηριστικά)\\n- Eνημέρωση της κεντρικής βάσης δεδομένων του συστήματος ERP.', 'Προσόντα:\\n- Ικανότητα οργάνωσης και διαχείρισης χρόνου\\n- Μεθοδικότητα και προσοχή στη λεπτομέρεια\\n- Γνώση αγγλικών (επίπεδο Β1 και άνω)\\n- Γνώση Excel\\n- Γνώσεις προϊόντων τεχνολογίας\\n- Προηγούμενη εμπειρία σε data entry  (θα εκτιμηθεί)\\n- Βασική γνώση συστημάτων ERP ή e-shop (θα εκτιμηθεί)']",
         "['data entry', 'data entry υπάλληλος γραφείου', 'ηλεκτρονικη καταχώρηση δεδομενων', 'erp', 'υπαλληλος γραφειου - αθηνα', 'e shop']",
         "https://www.kariera.gr/en/jobs/e-commerce-or-digital-services-jobs/227536"
        ],
        [
         "5",
         "Εκπρόσωπος Τεχνικής Υποστήριξης",
         "ΟΜΙΛΟΣ ΣΠΥΡΙΔΗ",
         "Αθήνα",
         "πριν 2 μέρες",
         "Entry / Αρχάριος",
         "Πλήρης απασχόληση",
         "Τηλεφωνικό Κέντρο / Εξυπηρέτηση Πελατών",
         null,
         "['Ο Όμιλος Εταιριών Σπυρίδη με δυναμική και πρωτοπόρα παρουσία στον τομέα της Ενέργειας, αναζητά Εκπρόσωπο Τεχνικής Υποστήριξης Εμπορικού Προγράμματος με τις εξής αρμοδιότητες:', 'Όμιλος Εταιριών Σπυρίδη', 'Εκπρόσωπο Τεχνικής Υποστήριξης Εμπορικού Προγράμματος', 'Εξυπηρέτηση πελατών μέσω τηλεφώνου και απομακρυσμένης πρόσβασης, για θέματα εμπορικού λογισμικού', 'Επίλυση προβλημάτων και έλεγχος της ομαλής διευθέτησης των αιτημάτων που προκύπτουν', 'Παρακολούθηση και διαχείριση κλήσεων μέσω του συστήματος CRM', 'Απαιτούμενα Προσόντα:', 'Απαιτούμενα Προσόντα:', 'Πτυχίο Πληροφορικής', 'Επιθυμητή προϋπηρεσία σε αντίστοιχο κλάδο τεχνικής υποστήριξης, κυρίως software', 'Επικοινωνιακές δεξιότητες', 'Ομαδικότητα και πνεύμα συνεργασίας', 'Επιθυμητά Προσόντα:', 'Επιθυμητά Προσόντα:', 'Γνώση σε εφαρμογές της Epsilon Net (κυρίως Pylon)', 'Εμπειρία σε βάσεις δεδομένων SQL', 'Ικανότητα στην τήρηση χρονοδιαγράμματος, παρέχοντας λύσεις βάσει τεχνικών προδιαγραφών', 'Παροχές:', 'Παροχές:', 'Σταθερό και δυναμικό περιβάλλον εργασίας', 'Συνεχής εκπαίδευση', 'Προοπτικές προσωπικής και επαγγελματικής εξέλιξης']",
         "['βοηθός λογιστής, junior accountant,', 'junior accountant,', '#accounting#', 'accounting', 'crm / erp', 'erp', 'sql', 'χρηματοοικονομικά', 'λογιστης', 'βοηθος/λογιστης', 'pylon erp', 'υπαλληλος λογιστηριου', 'βοηθος λογιστη,λογιστης,λογιστηριο,υπαλληλος λογιστηριου', '#υπαλληλος #γραφειου #βοηθοσλογιστη #λογιστηριο #πληρησαπασχοληση #αθηνα #αττικη #athens #attiki', 'εξοικειωση με erp', 'λογιστικη, λογιστης, λογιστικα, howden, accountant, assistant accountant, my data, βοηθος λογιστη', 'λογιστης, λογιστηριο, λογιστρια, οικονομικα, χρηματοοικονομικα, φορολογια,φ.π.α., my data']",
         "https://www.kariera.gr/en/jobs/call-center-or-customer-support-jobs/226835?sponsored"
        ],
        [
         "6",
         "Accounting Administrator",
         "Orizon Global",
         "Αθήνα",
         "πριν 3 μέρες",
         "Entry / Αρχάριος",
         "Πλήρης απασχόληση",
         "Λογιστικά",
         null,
         "['Welcome to Orizon Global', 'Welcome to Orizon Global', 'Orizon Global is a group of companies, compromising of businesses providing 360-degree property management services, interior design consultancy, real estate brokerage, property rentals, and engage in the trade of collectible design, decoration, lighting and furniture. We stand as a dynamic project management team. We work as one organization to offer our clients a turnkey solution and an equal quality of service. The group is structured as a matrix that enables all our activities to utilize a centralized pool of specialized skills and know-how. Our primary focus on high-end residential, extends to the Greek islands and the Attica region.', 'Our Distinctive Culture:', 'Our Distinctive Culture:', 'Our team consists of young and ambitious professionals, each bringing a unique perspective from diverse international backgrounds. Committed to both personal and collective growth within our organization, we cultivate a culture of continuous improvement. This culture thrives on open communication, the exchange of prosperous feedback, and a foundation of mutual respect among our team members.', 'Role Description: Accounting Administrator', 'Role Description:', 'Location: Kolonaki, Athens (Full-time, On-site)', 'Location:', 'We are looking for a meticulous junior Accountant to join forces and assist us with our accounting processes with precision and integrity. Based in Kolonaki, Athens, this full-time role is ideal for a detail-oriented professional with a passion for problem-solving and bookkeeping. This is an exciting opportunity to contribute to the stability and growth of a fast-evolving commercial business.', 'Key Responsibilities:', 'Key Responsibilities:', 'Monthly Bookkeeping: collecting, entering and archiving supplier invoices/bills', 'Utility Bills Management of our properties', 'Insurance Contracts deadlines monitoring of our properties and businesses', 'Customers & Suppliers: monitoring and updating balances', 'Treasury: executing and recording payments, ensuring collection of all the payment-related invoices/receipts', 'Banking: collecting bank statements and reconciling bank accounts', 'Payroll entries', 'End-of-month activities: assisting with various tasks and responsibilities', 'Qualifications:', 'Qualifications:', 'Bachelor’s degree in Accounting', 'Good Microsoft Excel & Word user & generally very comfortable with IT tools', 'Professional-level user of English language', 'Strong attention to detail, well organized', 'Meeting deadlines', 'Knowledge of using SoftOne would be considered a big plus', 'Why Join Us:', 'Why Join Us:', 'At Orizon Global, we value proactive individuals who contribute to a positive and thriving work environment. As our Accounting Administrator, you will play a crucial role in maintaining the smooth operation of our Finance department, while having the opportunity to engage in diverse tasks that contribute to the overall success of our projects. Additionally, by providing accurate data, you will play a fundamental role in our decision-making process. If you are a detail-oriented professional with excellent organizational and communication skills, we would be glad to have you on board!', 'Please reach out with sending your CV in ENGLISH', 'Please reach out']",
         "['accounting', 'administration', 'accountant', 'junior accountant,', 'bookkeeping', 'data entry', 'financial', 'λογιστήριο', 'βοηθός λογιστή', 'λογιστής', 'λογιστής β', 'λογιστικά', 'αθήνα', 'κολωνάκι,kolonaki', 'administrator', 'english', 'αγγλικά', 'erp softone', 'softone', 'finance, οικονομικά', 'finance']",
         "https://www.kariera.gr/en/jobs/accounting-or-auditing-jobs/226528"
        ]
       ],
       "shape": {
        "columns": 11,
        "rows": 7
       }
      },
      "text/html": [
       "<div>\n",
       "<style scoped>\n",
       "    .dataframe tbody tr th:only-of-type {\n",
       "        vertical-align: middle;\n",
       "    }\n",
       "\n",
       "    .dataframe tbody tr th {\n",
       "        vertical-align: top;\n",
       "    }\n",
       "\n",
       "    .dataframe thead th {\n",
       "        text-align: right;\n",
       "    }\n",
       "</style>\n",
       "<table border=\"1\" class=\"dataframe\">\n",
       "  <thead>\n",
       "    <tr style=\"text-align: right;\">\n",
       "      <th></th>\n",
       "      <th>role</th>\n",
       "      <th>company</th>\n",
       "      <th>location</th>\n",
       "      <th>date_posted</th>\n",
       "      <th>min_experience</th>\n",
       "      <th>employment_type</th>\n",
       "      <th>category</th>\n",
       "      <th>remote</th>\n",
       "      <th>details</th>\n",
       "      <th>tags</th>\n",
       "      <th>ad_link</th>\n",
       "    </tr>\n",
       "  </thead>\n",
       "  <tbody>\n",
       "    <tr>\n",
       "      <th>0</th>\n",
       "      <td>Yπάλληλος ΒΑCK OFFICE</td>\n",
       "      <td>BFS Group</td>\n",
       "      <td>Άγιος Δημήτριος</td>\n",
       "      <td>πριν 5 ώρες</td>\n",
       "      <td>Με κάποια εμπειρία</td>\n",
       "      <td>Πλήρης απασχόληση</td>\n",
       "      <td>Γραμματειακή Υποστήριξη / Υπάλληλος Γραφείου</td>\n",
       "      <td>None</td>\n",
       "      <td>[Η BFS Group,Leading Employer in Greece,  αναζ...</td>\n",
       "      <td>[#back office, γραμματειακη υποστηριξη, back o...</td>\n",
       "      <td>https://www.kariera.gr/en/jobs/administrative-...</td>\n",
       "    </tr>\n",
       "    <tr>\n",
       "      <th>1</th>\n",
       "      <td>Data Entry Specialist</td>\n",
       "      <td>ΛΑΚΙΩΤΗΣ Α.Ε.</td>\n",
       "      <td>Ασπρόπυργος</td>\n",
       "      <td>πριν 10 μέρες</td>\n",
       "      <td>Entry / Αρχάριος</td>\n",
       "      <td>Πλήρης απασχόληση</td>\n",
       "      <td>Μάρκετινγκ / Διαφήμιση</td>\n",
       "      <td>None</td>\n",
       "      <td>[Η εταιρία Λακιώτης, στο πλαίσιο της δυναμικής...</td>\n",
       "      <td>[]</td>\n",
       "      <td>https://www.kariera.gr/en/jobs/marketing-or-ad...</td>\n",
       "    </tr>\n",
       "    <tr>\n",
       "      <th>2</th>\n",
       "      <td>Product Specialist</td>\n",
       "      <td>INTER CARS GREECE ΜΟΝ. ΕΠΕ</td>\n",
       "      <td>Ελληνικό</td>\n",
       "      <td>πριν 9 μέρες</td>\n",
       "      <td>Με κάποια εμπειρία</td>\n",
       "      <td>Πλήρης απασχόληση</td>\n",
       "      <td>Προμήθειες / Αγορές</td>\n",
       "      <td>None</td>\n",
       "      <td>[Inter Cars Greece Single Member Liability Com...</td>\n",
       "      <td>[excel, analytics, data scientist, data analyt...</td>\n",
       "      <td>https://www.kariera.gr/en/jobs/procurement-or-...</td>\n",
       "    </tr>\n",
       "    <tr>\n",
       "      <th>3</th>\n",
       "      <td>Product Manager (Energy)</td>\n",
       "      <td>Volton Ελληνική Ενεργειακή Α.Ε.</td>\n",
       "      <td>Μεταμόρφωση</td>\n",
       "      <td>πριν 18 μέρες</td>\n",
       "      <td>Με κάποια εμπειρία</td>\n",
       "      <td>Πλήρης απασχόληση</td>\n",
       "      <td>Μάρκετινγκ / Διαφήμιση</td>\n",
       "      <td>Εργασία από απόσταση κάποιες ημέρες</td>\n",
       "      <td>[Volton Hellenic Energy SA is a Greek company ...</td>\n",
       "      <td>[reporting, data analysis, product marketing, ...</td>\n",
       "      <td>https://www.kariera.gr/en/jobs/marketing-or-ad...</td>\n",
       "    </tr>\n",
       "    <tr>\n",
       "      <th>4</th>\n",
       "      <td>Data Entry Specialist</td>\n",
       "      <td>WEBSUPPLIES MON AE</td>\n",
       "      <td>Αιγάλεω</td>\n",
       "      <td>πριν 2 ώρες</td>\n",
       "      <td>Με κάποια εμπειρία</td>\n",
       "      <td>Πλήρης απασχόληση</td>\n",
       "      <td>Ηλεκτρονικό Εμπόριο / Ψηφιακές Υπηρεσίες</td>\n",
       "      <td>None</td>\n",
       "      <td>[Data Entry Specialist, Η WebSupplies στο πλαί...</td>\n",
       "      <td>[data entry, data entry υπάλληλος γραφείου, ηλ...</td>\n",
       "      <td>https://www.kariera.gr/en/jobs/e-commerce-or-d...</td>\n",
       "    </tr>\n",
       "    <tr>\n",
       "      <th>5</th>\n",
       "      <td>Εκπρόσωπος Τεχνικής Υποστήριξης</td>\n",
       "      <td>ΟΜΙΛΟΣ ΣΠΥΡΙΔΗ</td>\n",
       "      <td>Αθήνα</td>\n",
       "      <td>πριν 2 μέρες</td>\n",
       "      <td>Entry / Αρχάριος</td>\n",
       "      <td>Πλήρης απασχόληση</td>\n",
       "      <td>Τηλεφωνικό Κέντρο / Εξυπηρέτηση Πελατών</td>\n",
       "      <td>None</td>\n",
       "      <td>[Ο Όμιλος Εταιριών Σπυρίδη με δυναμική και πρω...</td>\n",
       "      <td>[βοηθός λογιστής, junior accountant,, junior a...</td>\n",
       "      <td>https://www.kariera.gr/en/jobs/call-center-or-...</td>\n",
       "    </tr>\n",
       "    <tr>\n",
       "      <th>6</th>\n",
       "      <td>Accounting Administrator</td>\n",
       "      <td>Orizon Global</td>\n",
       "      <td>Αθήνα</td>\n",
       "      <td>πριν 3 μέρες</td>\n",
       "      <td>Entry / Αρχάριος</td>\n",
       "      <td>Πλήρης απασχόληση</td>\n",
       "      <td>Λογιστικά</td>\n",
       "      <td>None</td>\n",
       "      <td>[Welcome to Orizon Global, Welcome to Orizon G...</td>\n",
       "      <td>[accounting, administration, accountant, junio...</td>\n",
       "      <td>https://www.kariera.gr/en/jobs/accounting-or-a...</td>\n",
       "    </tr>\n",
       "  </tbody>\n",
       "</table>\n",
       "</div>"
      ],
      "text/plain": [
       "                              role                          company  \\\n",
       "0            Yπάλληλος ΒΑCK OFFICE                        BFS Group   \n",
       "1            Data Entry Specialist                    ΛΑΚΙΩΤΗΣ Α.Ε.   \n",
       "2               Product Specialist       INTER CARS GREECE ΜΟΝ. ΕΠΕ   \n",
       "3         Product Manager (Energy)  Volton Ελληνική Ενεργειακή Α.Ε.   \n",
       "4            Data Entry Specialist               WEBSUPPLIES MON AE   \n",
       "5  Εκπρόσωπος Τεχνικής Υποστήριξης                   ΟΜΙΛΟΣ ΣΠΥΡΙΔΗ   \n",
       "6         Accounting Administrator                    Orizon Global   \n",
       "\n",
       "          location    date_posted      min_experience    employment_type  \\\n",
       "0  Άγιος Δημήτριος    πριν 5 ώρες  Με κάποια εμπειρία  Πλήρης απασχόληση   \n",
       "1      Ασπρόπυργος  πριν 10 μέρες    Entry / Αρχάριος  Πλήρης απασχόληση   \n",
       "2         Ελληνικό   πριν 9 μέρες  Με κάποια εμπειρία  Πλήρης απασχόληση   \n",
       "3      Μεταμόρφωση  πριν 18 μέρες  Με κάποια εμπειρία  Πλήρης απασχόληση   \n",
       "4          Αιγάλεω    πριν 2 ώρες  Με κάποια εμπειρία  Πλήρης απασχόληση   \n",
       "5            Αθήνα   πριν 2 μέρες    Entry / Αρχάριος  Πλήρης απασχόληση   \n",
       "6            Αθήνα   πριν 3 μέρες    Entry / Αρχάριος  Πλήρης απασχόληση   \n",
       "\n",
       "                                       category  \\\n",
       "0  Γραμματειακή Υποστήριξη / Υπάλληλος Γραφείου   \n",
       "1                        Μάρκετινγκ / Διαφήμιση   \n",
       "2                           Προμήθειες / Αγορές   \n",
       "3                        Μάρκετινγκ / Διαφήμιση   \n",
       "4      Ηλεκτρονικό Εμπόριο / Ψηφιακές Υπηρεσίες   \n",
       "5       Τηλεφωνικό Κέντρο / Εξυπηρέτηση Πελατών   \n",
       "6                                     Λογιστικά   \n",
       "\n",
       "                                remote  \\\n",
       "0                                 None   \n",
       "1                                 None   \n",
       "2                                 None   \n",
       "3  Εργασία από απόσταση κάποιες ημέρες   \n",
       "4                                 None   \n",
       "5                                 None   \n",
       "6                                 None   \n",
       "\n",
       "                                             details  \\\n",
       "0  [Η BFS Group,Leading Employer in Greece,  αναζ...   \n",
       "1  [Η εταιρία Λακιώτης, στο πλαίσιο της δυναμικής...   \n",
       "2  [Inter Cars Greece Single Member Liability Com...   \n",
       "3  [Volton Hellenic Energy SA is a Greek company ...   \n",
       "4  [Data Entry Specialist, Η WebSupplies στο πλαί...   \n",
       "5  [Ο Όμιλος Εταιριών Σπυρίδη με δυναμική και πρω...   \n",
       "6  [Welcome to Orizon Global, Welcome to Orizon G...   \n",
       "\n",
       "                                                tags  \\\n",
       "0  [#back office, γραμματειακη υποστηριξη, back o...   \n",
       "1                                                 []   \n",
       "2  [excel, analytics, data scientist, data analyt...   \n",
       "3  [reporting, data analysis, product marketing, ...   \n",
       "4  [data entry, data entry υπάλληλος γραφείου, ηλ...   \n",
       "5  [βοηθός λογιστής, junior accountant,, junior a...   \n",
       "6  [accounting, administration, accountant, junio...   \n",
       "\n",
       "                                             ad_link  \n",
       "0  https://www.kariera.gr/en/jobs/administrative-...  \n",
       "1  https://www.kariera.gr/en/jobs/marketing-or-ad...  \n",
       "2  https://www.kariera.gr/en/jobs/procurement-or-...  \n",
       "3  https://www.kariera.gr/en/jobs/marketing-or-ad...  \n",
       "4  https://www.kariera.gr/en/jobs/e-commerce-or-d...  \n",
       "5  https://www.kariera.gr/en/jobs/call-center-or-...  \n",
       "6  https://www.kariera.gr/en/jobs/accounting-or-a...  "
      ]
     },
     "execution_count": 66,
     "metadata": {},
     "output_type": "execute_result"
    }
   ],
   "source": [
    "df"
   ]
  },
  {
   "cell_type": "code",
   "execution_count": 67,
   "id": "2922ceca",
   "metadata": {},
   "outputs": [],
   "source": [
    "excluded_categories = (\"Τηλεφωνικό Κέντρο / Εξυπηρέτηση Πελατών\", \"Λογιστικά\", \"Γραμματειακή Υποστήριξη / Υπάλληλος Γραφείου\", \"Αποθήκη / Logistics\", \"Προμήθειες / Αγορές\", \"Πωλήσεις / Διαχείριση Πελατών\", \"Τεχνικοί / Service\", \"Οικονομικά\", \"Μάρκετινγκ / Διαφήμιση\", \"Ανθρώπινο Δυναμικό\")\n",
    "excluded_min_experience = (\"C-level / Executive\", \"Με μεγάλη εμπειρία\", \"\")\n",
    "excluded_role_patterns = (r\"senior\", r\"\\.net\", r\"C#\", r\"Angular\", r\"custsomer support\", r\"customer service\", r\"front[ -]?end\", r\"full[- ]?stack\", r\"IT support\", r\"Trainer\", r\"technician\", r\"php\", r\"deutsch\", r\"retail\", r\"react\", r\"java\", r\"Ηλεκτρολόγος\", r\"Invoicing\", r\"Πωλητές\", r\"τεχνικ[οό]ς\", r\"υποστ[ήη]ριξη\", r\"backoffice\", r\"cobol\", r\"business\", r\"german\", r\"business\", r\"experienced\", r\"lead\", r\"system[s] support\", r\"call  center\", r\"procurement\", r\"logistic\", r\"sales\")\n",
    "excluded_role_pattern = \"|\".join(excluded_role_patterns)\n",
    "df = df[~df[\"category\"].isin(excluded_categories)]\n",
    "df = df[~df[\"min_experience\"].isin(excluded_min_experience)]\n",
    "df = df[~df[\"role\"].str.contains(excluded_role_pattern, na=False, case=False)]"
   ]
  },
  {
   "cell_type": "code",
   "execution_count": 68,
   "id": "916e3856",
   "metadata": {},
   "outputs": [],
   "source": [
    "df['role'] = df['role'].astype('string')"
   ]
  },
  {
   "cell_type": "code",
   "execution_count": 69,
   "id": "6542d309",
   "metadata": {},
   "outputs": [
    {
     "data": {
      "application/vnd.microsoft.datawrangler.viewer.v0+json": {
       "columns": [
        {
         "name": "index",
         "rawType": "int64",
         "type": "integer"
        },
        {
         "name": "role",
         "rawType": "string",
         "type": "string"
        },
        {
         "name": "company",
         "rawType": "object",
         "type": "string"
        },
        {
         "name": "location",
         "rawType": "object",
         "type": "string"
        },
        {
         "name": "date_posted",
         "rawType": "object",
         "type": "string"
        },
        {
         "name": "min_experience",
         "rawType": "object",
         "type": "string"
        },
        {
         "name": "employment_type",
         "rawType": "object",
         "type": "string"
        },
        {
         "name": "category",
         "rawType": "object",
         "type": "string"
        },
        {
         "name": "remote",
         "rawType": "object",
         "type": "string"
        },
        {
         "name": "details",
         "rawType": "object",
         "type": "string"
        },
        {
         "name": "tags",
         "rawType": "object",
         "type": "string"
        },
        {
         "name": "ad_link",
         "rawType": "object",
         "type": "string"
        }
       ],
       "ref": "e63778e6-5111-4161-ae7d-55c67a9c307c",
       "rows": [],
       "shape": {
        "columns": 11,
        "rows": 0
       }
      },
      "text/html": [
       "<div>\n",
       "<style scoped>\n",
       "    .dataframe tbody tr th:only-of-type {\n",
       "        vertical-align: middle;\n",
       "    }\n",
       "\n",
       "    .dataframe tbody tr th {\n",
       "        vertical-align: top;\n",
       "    }\n",
       "\n",
       "    .dataframe thead th {\n",
       "        text-align: right;\n",
       "    }\n",
       "</style>\n",
       "<table border=\"1\" class=\"dataframe\">\n",
       "  <thead>\n",
       "    <tr style=\"text-align: right;\">\n",
       "      <th></th>\n",
       "      <th>role</th>\n",
       "      <th>company</th>\n",
       "      <th>location</th>\n",
       "      <th>date_posted</th>\n",
       "      <th>min_experience</th>\n",
       "      <th>employment_type</th>\n",
       "      <th>category</th>\n",
       "      <th>remote</th>\n",
       "      <th>details</th>\n",
       "      <th>tags</th>\n",
       "      <th>ad_link</th>\n",
       "    </tr>\n",
       "  </thead>\n",
       "  <tbody>\n",
       "  </tbody>\n",
       "</table>\n",
       "</div>"
      ],
      "text/plain": [
       "Empty DataFrame\n",
       "Columns: [role, company, location, date_posted, min_experience, employment_type, category, remote, details, tags, ad_link]\n",
       "Index: []"
      ]
     },
     "execution_count": 69,
     "metadata": {},
     "output_type": "execute_result"
    }
   ],
   "source": [
    "df[df['role'].str.lower().str.contains('data engineer')]"
   ]
  },
  {
   "cell_type": "code",
   "execution_count": 70,
   "id": "f883b7e0",
   "metadata": {},
   "outputs": [
    {
     "data": {
      "application/vnd.microsoft.datawrangler.viewer.v0+json": {
       "columns": [
        {
         "name": "index",
         "rawType": "int64",
         "type": "integer"
        },
        {
         "name": "role",
         "rawType": "string",
         "type": "string"
        },
        {
         "name": "company",
         "rawType": "object",
         "type": "string"
        },
        {
         "name": "location",
         "rawType": "object",
         "type": "string"
        },
        {
         "name": "date_posted",
         "rawType": "object",
         "type": "string"
        },
        {
         "name": "min_experience",
         "rawType": "object",
         "type": "string"
        },
        {
         "name": "employment_type",
         "rawType": "object",
         "type": "string"
        },
        {
         "name": "category",
         "rawType": "object",
         "type": "string"
        },
        {
         "name": "remote",
         "rawType": "object",
         "type": "string"
        },
        {
         "name": "details",
         "rawType": "object",
         "type": "string"
        },
        {
         "name": "tags",
         "rawType": "object",
         "type": "string"
        },
        {
         "name": "ad_link",
         "rawType": "object",
         "type": "string"
        }
       ],
       "ref": "b148d871-e84b-48af-a661-dc90aac18d14",
       "rows": [],
       "shape": {
        "columns": 11,
        "rows": 0
       }
      },
      "text/html": [
       "<div>\n",
       "<style scoped>\n",
       "    .dataframe tbody tr th:only-of-type {\n",
       "        vertical-align: middle;\n",
       "    }\n",
       "\n",
       "    .dataframe tbody tr th {\n",
       "        vertical-align: top;\n",
       "    }\n",
       "\n",
       "    .dataframe thead th {\n",
       "        text-align: right;\n",
       "    }\n",
       "</style>\n",
       "<table border=\"1\" class=\"dataframe\">\n",
       "  <thead>\n",
       "    <tr style=\"text-align: right;\">\n",
       "      <th></th>\n",
       "      <th>role</th>\n",
       "      <th>company</th>\n",
       "      <th>location</th>\n",
       "      <th>date_posted</th>\n",
       "      <th>min_experience</th>\n",
       "      <th>employment_type</th>\n",
       "      <th>category</th>\n",
       "      <th>remote</th>\n",
       "      <th>details</th>\n",
       "      <th>tags</th>\n",
       "      <th>ad_link</th>\n",
       "    </tr>\n",
       "  </thead>\n",
       "  <tbody>\n",
       "  </tbody>\n",
       "</table>\n",
       "</div>"
      ],
      "text/plain": [
       "Empty DataFrame\n",
       "Columns: [role, company, location, date_posted, min_experience, employment_type, category, remote, details, tags, ad_link]\n",
       "Index: []"
      ]
     },
     "execution_count": 70,
     "metadata": {},
     "output_type": "execute_result"
    }
   ],
   "source": [
    "df[df['role'].str.lower().str.contains('python')]"
   ]
  },
  {
   "cell_type": "code",
   "execution_count": 71,
   "id": "849dd455",
   "metadata": {},
   "outputs": [
    {
     "data": {
      "application/vnd.microsoft.datawrangler.viewer.v0+json": {
       "columns": [
        {
         "name": "index",
         "rawType": "int64",
         "type": "integer"
        },
        {
         "name": "role",
         "rawType": "string",
         "type": "string"
        },
        {
         "name": "company",
         "rawType": "object",
         "type": "string"
        },
        {
         "name": "location",
         "rawType": "object",
         "type": "string"
        },
        {
         "name": "date_posted",
         "rawType": "object",
         "type": "string"
        },
        {
         "name": "min_experience",
         "rawType": "object",
         "type": "string"
        },
        {
         "name": "employment_type",
         "rawType": "object",
         "type": "string"
        },
        {
         "name": "category",
         "rawType": "object",
         "type": "string"
        },
        {
         "name": "remote",
         "rawType": "object",
         "type": "unknown"
        },
        {
         "name": "details",
         "rawType": "object",
         "type": "unknown"
        },
        {
         "name": "tags",
         "rawType": "object",
         "type": "unknown"
        },
        {
         "name": "ad_link",
         "rawType": "object",
         "type": "string"
        }
       ],
       "ref": "54eff8d8-45e9-43ab-baee-eb7ffb53a176",
       "rows": [
        [
         "4",
         "Data Entry Specialist",
         "WEBSUPPLIES MON AE",
         "Αιγάλεω",
         "πριν 2 ώρες",
         "Με κάποια εμπειρία",
         "Πλήρης απασχόληση",
         "Ηλεκτρονικό Εμπόριο / Ψηφιακές Υπηρεσίες",
         null,
         "['Data Entry Specialist', 'Η WebSupplies στο πλαίσιο της δυναμικής της ανάπτυξης, αναζητά νέα μέλη για να ενισχύσει την ομάδα της.', 'Αρμοδιότητες: \\n- Ηλεκτρονική καταχώριση δεδομένων σε καθημερινή βάση (προϊόντα, τιμές, περιγραφές, τεχνικά χαρακτηριστικά)\\n- Eνημέρωση της κεντρικής βάσης δεδομένων του συστήματος ERP.', 'Προσόντα:\\n- Ικανότητα οργάνωσης και διαχείρισης χρόνου\\n- Μεθοδικότητα και προσοχή στη λεπτομέρεια\\n- Γνώση αγγλικών (επίπεδο Β1 και άνω)\\n- Γνώση Excel\\n- Γνώσεις προϊόντων τεχνολογίας\\n- Προηγούμενη εμπειρία σε data entry  (θα εκτιμηθεί)\\n- Βασική γνώση συστημάτων ERP ή e-shop (θα εκτιμηθεί)']",
         "['data entry', 'data entry υπάλληλος γραφείου', 'ηλεκτρονικη καταχώρηση δεδομενων', 'erp', 'υπαλληλος γραφειου - αθηνα', 'e shop']",
         "https://www.kariera.gr/en/jobs/e-commerce-or-digital-services-jobs/227536"
        ]
       ],
       "shape": {
        "columns": 11,
        "rows": 1
       }
      },
      "text/html": [
       "<div>\n",
       "<style scoped>\n",
       "    .dataframe tbody tr th:only-of-type {\n",
       "        vertical-align: middle;\n",
       "    }\n",
       "\n",
       "    .dataframe tbody tr th {\n",
       "        vertical-align: top;\n",
       "    }\n",
       "\n",
       "    .dataframe thead th {\n",
       "        text-align: right;\n",
       "    }\n",
       "</style>\n",
       "<table border=\"1\" class=\"dataframe\">\n",
       "  <thead>\n",
       "    <tr style=\"text-align: right;\">\n",
       "      <th></th>\n",
       "      <th>role</th>\n",
       "      <th>company</th>\n",
       "      <th>location</th>\n",
       "      <th>date_posted</th>\n",
       "      <th>min_experience</th>\n",
       "      <th>employment_type</th>\n",
       "      <th>category</th>\n",
       "      <th>remote</th>\n",
       "      <th>details</th>\n",
       "      <th>tags</th>\n",
       "      <th>ad_link</th>\n",
       "    </tr>\n",
       "  </thead>\n",
       "  <tbody>\n",
       "    <tr>\n",
       "      <th>4</th>\n",
       "      <td>Data Entry Specialist</td>\n",
       "      <td>WEBSUPPLIES MON AE</td>\n",
       "      <td>Αιγάλεω</td>\n",
       "      <td>πριν 2 ώρες</td>\n",
       "      <td>Με κάποια εμπειρία</td>\n",
       "      <td>Πλήρης απασχόληση</td>\n",
       "      <td>Ηλεκτρονικό Εμπόριο / Ψηφιακές Υπηρεσίες</td>\n",
       "      <td>None</td>\n",
       "      <td>[Data Entry Specialist, Η WebSupplies στο πλαί...</td>\n",
       "      <td>[data entry, data entry υπάλληλος γραφείου, ηλ...</td>\n",
       "      <td>https://www.kariera.gr/en/jobs/e-commerce-or-d...</td>\n",
       "    </tr>\n",
       "  </tbody>\n",
       "</table>\n",
       "</div>"
      ],
      "text/plain": [
       "                    role             company location  date_posted  \\\n",
       "4  Data Entry Specialist  WEBSUPPLIES MON AE  Αιγάλεω  πριν 2 ώρες   \n",
       "\n",
       "       min_experience    employment_type  \\\n",
       "4  Με κάποια εμπειρία  Πλήρης απασχόληση   \n",
       "\n",
       "                                   category remote  \\\n",
       "4  Ηλεκτρονικό Εμπόριο / Ψηφιακές Υπηρεσίες   None   \n",
       "\n",
       "                                             details  \\\n",
       "4  [Data Entry Specialist, Η WebSupplies στο πλαί...   \n",
       "\n",
       "                                                tags  \\\n",
       "4  [data entry, data entry υπάλληλος γραφείου, ηλ...   \n",
       "\n",
       "                                             ad_link  \n",
       "4  https://www.kariera.gr/en/jobs/e-commerce-or-d...  "
      ]
     },
     "execution_count": 71,
     "metadata": {},
     "output_type": "execute_result"
    }
   ],
   "source": [
    "df"
   ]
  },
  {
   "cell_type": "code",
   "execution_count": null,
   "id": "76d6fb25",
   "metadata": {},
   "outputs": [],
   "source": [
    "['Κέντρο Δια Βίου Μάθησης με μακρόχρονη παρουσία στο χώρο της Επαγγελματικής Εκπαίδευσης και Κατάρτισης, αναζητά για οχτάωρη και δια ζώσης εργασία :', 'IT SYSTEMS SUPPORT', 'IT SYSTEMS SUPPORT', 'Αρμοδιότητες θέσης:', 'Αρμοδιότητες', 'θέσης', ':', 'Εξασφάλιση συνεχούς & αδιάλειπτης λειτουργίας υποδομών της εταιρείας και των παραρτημάτων της (workstations, servers, δίκτυα, backup, etc)', 'Διαχείριση χρηστών & τεχνική υποστήριξη', 'Εγκατάσταση & συντήρηση λογισμικών όλων των τύπων', 'Τεχνική υποστήριξη ERP/retail εφαρμογών, πληροφοριακών συστημάτων και περιφερειακών', 'Διαχείριση software & hardware (εγκατάσταση, παραμετροποίηση & διαχείριση για την ορθή λειτουργία τους', 'Εγκατάσταση & συντήρηση εξοπλισμού', 'Προφίλ Υποψηφίου :', 'Προφίλ Υποψηφίου :', 'Πτυχίο Πληροφορικής ή συναφούς αντικειμένου', 'Αποδεδειγμένη προϋπηρεσία τουλάχιστον 3 ετών', 'Καλή γνώση αγγλικής γλώσσας', 'Γνώση συστημάτων ασφάλειας δεδομένων & πληροφοριών (ISO 27001 κ.α.)', 'Γνώσεις & εμπειρία:', 'Γνώσεις & εμπειρία:', 'Λειτουργικών συστημάτων Microsoft (Office365, Windows Server 2008-2019, Windows 10, Office 2010 – 2019 System administration: Active Directory, File Server, Hyper-V)', 'MS-SQL server: διαχείριση βλαβών', 'Ασφάλειας δικτύων (antivirus, firewalls, VPN)', 'Servers HP, Dell', 'Eset Security Management Center ή κάτι αντίστοιχο', 'Δίκτυα (Networking, Routing, Firewall)', 'Διαχείριση IP τηλεφωνικού κέντρου, Alcatel PBX (επιθυμητό) ή κάτι αντίστοιχο', 'Ικανότητες / δεξιότητες:', 'Ικανότητες / δεξιότητες:', 'ομαδική εργασία', 'καλή επικοινωνία', 'τήρηση χρονοδιαγραμμάτων', 'διαχείριση προτεραιοτήτων & έκτακτων καταστάσεων', 'μεθοδικότητα & οργάνωση', 'Η εταιρεία προσφέρει:', 'Η εταιρεία προσφέρει:', 'Μόνιμη απασχόληση', 'Συνεχή εκπαίδευση', 'Ευχάριστο και φιλικό περιβάλλον εργασίας', 'Ανταγωνιστικό πακέτο αποδοχών αναλόγως προσόντων', 'Τα βιογραφικά σημειώματα μπορούν να αποστέλλονται στην ηλεκτρονική διεύθυνση: hr@ueducation.gr']"
   ]
  },
  {
   "cell_type": "code",
   "execution_count": 46,
   "id": "d4f4af4d",
   "metadata": {},
   "outputs": [],
   "source": [
    "null_roles = df[df['role'].isna()]"
   ]
  },
  {
   "cell_type": "code",
   "execution_count": 49,
   "id": "62e04dc6",
   "metadata": {},
   "outputs": [],
   "source": [
    "null_role_links = [link for link in null_roles[\"ad_link\"]]"
   ]
  },
  {
   "cell_type": "code",
   "execution_count": 55,
   "id": "d21611c0",
   "metadata": {},
   "outputs": [
    {
     "data": {
      "text/plain": [
       "33"
      ]
     },
     "execution_count": 55,
     "metadata": {},
     "output_type": "execute_result"
    }
   ],
   "source": [
    "len(null_role_links)"
   ]
  },
  {
   "cell_type": "code",
   "execution_count": null,
   "id": "10a62ed4",
   "metadata": {},
   "outputs": [],
   "source": [
    "import webbrowser\n",
    "import time\n",
    "\n",
    "import webbrowser\n",
    "\n",
    "def open_links_in_tabs(urls):\n",
    "    for url in urls:\n",
    "        webbrowser.open_new_tab(url)\n",
    "open_links_in_tabs(null_role_links)\n"
   ]
  },
  {
   "cell_type": "code",
   "execution_count": null,
   "id": "c0e6dc29",
   "metadata": {},
   "outputs": [],
   "source": []
  }
 ],
 "metadata": {
  "kernelspec": {
   "display_name": "bb_data_edit",
   "language": "python",
   "name": "python3"
  },
  "language_info": {
   "codemirror_mode": {
    "name": "ipython",
    "version": 3
   },
   "file_extension": ".py",
   "mimetype": "text/x-python",
   "name": "python",
   "nbconvert_exporter": "python",
   "pygments_lexer": "ipython3",
   "version": "3.11.11"
  }
 },
 "nbformat": 4,
 "nbformat_minor": 5
}
